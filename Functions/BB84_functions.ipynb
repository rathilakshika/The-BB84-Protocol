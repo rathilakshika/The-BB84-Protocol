{
 "cells": [
  {
   "cell_type": "code",
   "execution_count": 7,
   "metadata": {},
   "outputs": [],
   "source": [
    "from qiskit import *\n",
    "from numpy.random import randint, shuffle\n",
    "from qiskit.visualization import plot_histogram, plot_bloch_multivector\n",
    "import numpy as np"
   ]
  },
  {
   "cell_type": "code",
   "execution_count": 8,
   "metadata": {},
   "outputs": [],
   "source": [
    "def bit_string1(n):\n",
    "    zeros = [0 for _ in range(n//2)]\n",
    "    ones = [1 for _ in range(n - n//2)]\n",
    "    bits = zeros + ones\n",
    "    np.random.shuffle(bits)\n",
    "    return bits"
   ]
  },
  {
   "cell_type": "code",
   "execution_count": 9,
   "metadata": {},
   "outputs": [],
   "source": [
    "def bit_string(n) :\n",
    "    return randint(0, 2, n)"
   ]
  },
  {
   "cell_type": "code",
   "execution_count": 10,
   "metadata": {},
   "outputs": [],
   "source": [
    "def encode_bits1(bits, bases):\n",
    "    base_encoding = []\n",
    "    for bit, base in zip(bits, bases):\n",
    "        base_circuit = QuantumCircuit(1, 1)\n",
    "        if base == 0:\n",
    "            if bit == 1:\n",
    "                base_circuit.x(0)\n",
    "        if base == 1:\n",
    "            if bit == 0:\n",
    "                base_circuit.h(0)\n",
    "            if bit == 1:\n",
    "                base_circuit.x(0)\n",
    "                base_circuit.h(0)\n",
    "        base_circuit.barrier()\n",
    "        base_encoding.append(base_circuit)\n",
    "    return base_encoding"
   ]
  },
  {
   "cell_type": "code",
   "execution_count": 11,
   "metadata": {},
   "outputs": [],
   "source": [
    "def encode_bits(bits, bases):\n",
    "    l = len(bits)\n",
    "    base_circuit = QuantumCircuit(l, l)\n",
    "    for i in range(l):\n",
    "        if bases[i] == 0:\n",
    "            if bits[i] == 1:\n",
    "                base_circuit.x(i)\n",
    "        if bases[i] == 1:\n",
    "            if bits[i] == 0:\n",
    "                base_circuit.h(i)\n",
    "            if bits[i] == 1:\n",
    "                base_circuit.x(i)\n",
    "                base_circuit.h(i)\n",
    "    base_circuit.barrier()\n",
    "    return base_circuit"
   ]
  },
  {
   "cell_type": "code",
   "execution_count": 12,
   "metadata": {},
   "outputs": [],
   "source": [
    "def measure_bits1(circuit, bases):\n",
    "    backend = Aer.get_backend('qasm_simulator')\n",
    "    measured_bits = []\n",
    "    for j in range(len(bits)):\n",
    "        if bases[j] == 0:\n",
    "            circuit[j].measure(0,0)\n",
    "        if bases[j] == 1:\n",
    "            circuit[j].h(0)\n",
    "            circuit[j].measure(0,0)\n",
    "        result = execute(circuit[j], backend, shots=1, memory = True).result()\n",
    "        measured_bit = int(result.get_memory()[0])\n",
    "        measured_bits.append(measured_bit)\n",
    "    return measured_bits"
   ]
  },
  {
   "cell_type": "code",
   "execution_count": 13,
   "metadata": {},
   "outputs": [],
   "source": [
    "def measure_bits(circuit, bases):\n",
    "    backend = Aer.get_backend('qasm_simulator')\n",
    "    for j in range(len(bases)):\n",
    "        if bases[j] == 0:\n",
    "            circuit.measure(j,j)\n",
    "        if bases[j] == 1:\n",
    "            circuit.h(j)\n",
    "            circuit.measure(j,j)\n",
    "    r = execute(circuit, backend, shots=1, memory = True).result().get_counts()\n",
    "    return circuit, [int(ch) for ch in list(r.keys())[0]][::-1]"
   ]
  },
  {
   "cell_type": "code",
   "execution_count": 14,
   "metadata": {},
   "outputs": [],
   "source": [
    "def agreed_bases(a, b):\n",
    "    return [j for j in range(len(a)) if a[j] == b[j]]"
   ]
  },
  {
   "cell_type": "code",
   "execution_count": 15,
   "metadata": {},
   "outputs": [],
   "source": [
    "def select_bits(bits, selection, choice):\n",
    "    return [bits[i] for i in range(len(selection)) if selection[i] == choice]"
   ]
  },
  {
   "cell_type": "code",
   "execution_count": 16,
   "metadata": {},
   "outputs": [],
   "source": [
    "def error_rate(atest, btest):\n",
    "    W = len([j for j in range(len(atest)) if atest[j] != btest[j]])\n",
    "    return W / len(atest)"
   ]
  },
  {
   "cell_type": "code",
   "execution_count": 17,
   "metadata": {},
   "outputs": [],
   "source": [
    "def information_reconciliation(a, b):\n",
    "    return a, b"
   ]
  },
  {
   "cell_type": "code",
   "execution_count": 18,
   "metadata": {},
   "outputs": [],
   "source": [
    "def toeplitz(n, k, bits, seed):\n",
    "    matrix = np.zeros((k, n), dtype = int)\n",
    "    for i in range(k) :\n",
    "        for j in range(n) :\n",
    "            matrix[i,j] = seed[i - j + n - 1]\n",
    "    key = np.matmul(matrix, np.transpose((np.array(bits))))\n",
    "    return [bit%2 for bit in key]"
   ]
  }
 ],
 "metadata": {
  "kernelspec": {
   "display_name": "Python 3",
   "language": "python",
   "name": "python3"
  },
  "language_info": {
   "codemirror_mode": {
    "name": "ipython",
    "version": 3
   },
   "file_extension": ".py",
   "mimetype": "text/x-python",
   "name": "python",
   "nbconvert_exporter": "python",
   "pygments_lexer": "ipython3",
   "version": "3.7.3"
  }
 },
 "nbformat": 4,
 "nbformat_minor": 4
}
