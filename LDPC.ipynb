{
 "cells": [
  {
   "cell_type": "code",
   "execution_count": null,
   "metadata": {},
   "outputs": [],
   "source": [
    "import numpy as np"
   ]
  },
  {
   "cell_type": "code",
   "execution_count": null,
   "metadata": {},
   "outputs": [],
   "source": [
    "def parity_matrix(m, n) :\n",
    "    return "
   ]
  },
  {
   "cell_type": "code",
   "execution_count": null,
   "metadata": {},
   "outputs": [],
   "source": [
    "def hash_function(x) :\n",
    "    return sum(x) % 2"
   ]
  },
  {
   "cell_type": "code",
   "execution_count": null,
   "metadata": {},
   "outputs": [],
   "source": [
    "def syndrome(M1, x) :\n",
    "    return np.matmul(M1, np.transpose(np.array(x)))"
   ]
  },
  {
   "cell_type": "code",
   "execution_count": null,
   "metadata": {},
   "outputs": [],
   "source": [
    "def estimate(M1, C, x) :\n",
    "    return"
   ]
  },
  {
   "cell_type": "code",
   "execution_count": null,
   "metadata": {},
   "outputs": [],
   "source": [
    "#Step1 : Produce parity check matrix(M1) of dimension m*n, n is length of bitstring and m is no. of parity check equations\n",
    "M1 = parity_matrix(m, n)\n",
    "\n",
    "#Step2 : Sita produces the syndrome and hash values\n",
    "C = syndrome(M1, sita_bits)\n",
    "H = hash_function(sita_bits)\n",
    "\n",
    "#Step3 : Sita sends syndrome and hash values via CAC\n",
    "\n",
    "#Step4 : Ram produces the syndrome\n",
    "D = syndrome(M1, ram_bits)\n",
    "\n",
    "#Step5 : Ram performs belief propagation algorithm\n",
    "r = 0\n",
    "reconciled = False\n",
    "    \n",
    "while (r < MAX_ITERATIONS) :\n",
    "    if C == D :\n",
    "        reconciled = True\n",
    "        break\n",
    "    ram_bits = estimate(ram_bits)\n",
    "    D = syndrome(M1, ram_bits)\n",
    "    r += 1\n",
    "\n",
    "if reconciled :\n",
    "    if hash_function(ram_bits) == H :\n",
    "        success = 1\n",
    "    else :\n",
    "        success = 0\n",
    "else :\n",
    "    success = 0\n",
    "    \n",
    "#Step6 : Ram sends success of reconciliation\n",
    "    \n",
    "    "
   ]
  }
 ],
 "metadata": {
  "kernelspec": {
   "display_name": "Python 3",
   "language": "python",
   "name": "python3"
  },
  "language_info": {
   "codemirror_mode": {
    "name": "ipython",
    "version": 3
   },
   "file_extension": ".py",
   "mimetype": "text/x-python",
   "name": "python",
   "nbconvert_exporter": "python",
   "pygments_lexer": "ipython3",
   "version": "3.8.3"
  }
 },
 "nbformat": 4,
 "nbformat_minor": 4
}
