{
 "cells": [
  {
   "cell_type": "code",
   "execution_count": null,
   "metadata": {},
   "outputs": [],
   "source": [
    "import numpy as np\n",
    "from math import exp, log"
   ]
  },
  {
   "cell_type": "code",
   "execution_count": null,
   "metadata": {},
   "outputs": [],
   "source": [
    "def parity_matrix(m, n) :\n",
    "    return "
   ]
  },
  {
   "cell_type": "code",
   "execution_count": null,
   "metadata": {},
   "outputs": [],
   "source": [
    "def non_zeros(M) :\n",
    "    return "
   ]
  },
  {
   "cell_type": "code",
   "execution_count": null,
   "metadata": {},
   "outputs": [],
   "source": [
    "def syndrome(M1, x) :\n",
    "    return np.matmul(M1, np.transpose(np.array(x)))"
   ]
  },
  {
   "cell_type": "code",
   "execution_count": null,
   "metadata": {},
   "outputs": [],
   "source": [
    "def produce_a2f(p, Na, Nf, Ma, Mf) :\n",
    "    a2f = [0]\n",
    "    for i in range(1, Ma + 1) :\n",
    "        a = exp(-i/Na)\n",
    "        f = (1 + a)/(1 - a)\n",
    "        z = log(f)\n",
    "        j = int(Nf * z + 0.5) \n",
    "        if j <= 0 :\n",
    "            j = 1\n",
    "        if j > Mf :\n",
    "            j = Mf\n",
    "        a2f.append(j)\n",
    "    retrun a2f"
   ]
  },
  {
   "cell_type": "code",
   "execution_count": null,
   "metadata": {},
   "outputs": [],
   "source": [
    "def produce_f2a(p, Na, Nf, Ma, Mf) :\n",
    "    f2a = [0]\n",
    "    for i in range(1, Mf + 1) :\n",
    "        f = exp(i/Nf)\n",
    "        a = (f - 1)/(f + 1)\n",
    "        z = -log(a)\n",
    "        j = int(Na * z + 0.5) \n",
    "        if j <= 0 :\n",
    "            j = 1\n",
    "        if j > Ma :\n",
    "            j = Ma\n",
    "        f2a.append(j)\n",
    "    retrun f2a"
   ]
  },
  {
   "cell_type": "code",
   "execution_count": null,
   "metadata": {},
   "outputs": [],
   "source": [
    "def LL_init(Na, Nf, k, p) :\n",
    "    LL_reg = [0]\n",
    "    f_init = Nf * log((1-p)/p)\n",
    "    a_init = Na * log(1 - 2 * p)\n",
    "    for i in range(1, k + 1) :\n",
    "        LL_reg.append(a_init)\n",
    "    return f_init, LL_reg"
   ]
  },
  {
   "cell_type": "code",
   "execution_count": null,
   "metadata": {},
   "outputs": [],
   "source": [
    "def cs_msgs_2_bits(m, d, cs_index, cs_list, LL_reg, Ma) : \n",
    "    for i in range(1, m + 1) :\n",
    "        sign = d[i]\n",
    "        big_alpha = 0\n",
    "        j1 = cs_index[i]\n",
    "        j2 = cs_index[i + 1]\n",
    "        for j in range(j1, j2) :\n",
    "            a1 = LL_reg[cs_list[j][1]]\n",
    "            if a1 < 0 :\n",
    "                sign = 1 - sign\n",
    "                big_alpha -= a1\n",
    "        for j in range(j1, j2) :\n",
    "            a1 = LL_reg[cs_list[j][1]]\n",
    "            p_sign = sign\n",
    "            if a1 < 0 :\n",
    "                p_alpha = big_alpha + a1\n",
    "            else :\n",
    "                p_alpha = big_alpha + a1\n",
    "            if p_alpha <= 0 :\n",
    "                p_alpha = 1\n",
    "            if p_alpha > Ma :\n",
    "                p_alpha = Ma\n",
    "            if p_sign == 0 :\n",
    "                LL_reg[cs_list[j][1]] = p_alpha\n",
    "            else :\n",
    "                LL_reg[cs_list[j][1]] = - p_alpha\n",
    "    return LL_reg"
   ]
  },
  {
   "cell_type": "code",
   "execution_count": null,
   "metadata": {},
   "outputs": [],
   "source": [
    "def bit_msgs_2_cs(n, f_init, a2f, Mf, LL_reg, y) :\n",
    "    y1 = []\n",
    "    for i in range(1, n + 1) :\n",
    "        j1, j2 = LL_index[i], LL_index[i + 1]\n",
    "        f_tot = f_init\n",
    "        for j in range(j1, j2) :\n",
    "            u = LL_reg[j]\n",
    "            if u > 0 :\n",
    "                u = a2f[u]\n",
    "            else :\n",
    "                u = - a2f[-u]\n",
    "            LL_reg[j] = u\n",
    "            f_tot += u\n",
    "        \n",
    "        for j in range(j1, j2) :\n",
    "            x = f_tot - LL_reg[j]\n",
    "            if x < 0 :\n",
    "                p_sign = 1\n",
    "                x = -x\n",
    "            else :\n",
    "                p_sign = 0\n",
    "            if x < 1 :\n",
    "                x = 1\n",
    "            if x > Mf :\n",
    "                x = Mf\n",
    "            if p_sign == 1 :\n",
    "                LL_reg[j] = - f2a[x]\n",
    "            else :\n",
    "                LL_reg[j] = f2a[x]\n",
    "    \n",
    "        if f_tot < 0 :\n",
    "            y1.append(1 - y[i])\n",
    "        else : \n",
    "            y1.append(y[i])\n",
    "        return y1, LL_reg"
   ]
  },
  {
   "cell_type": "code",
   "execution_count": null,
   "metadata": {},
   "outputs": [],
   "source": [
    "def converged(m, cs_index, cs_list, c) :\n",
    "    success = 1\n",
    "    for i in range(1, m + 1) :\n",
    "        chksum = 0\n",
    "        j1, j2 = cs_index[i], cs_index[i + 1]\n",
    "        for j in range(j1, j2) :\n",
    "            chksum = chksum ^ cs_list[j][0]\n",
    "        if chksum != c[i] :\n",
    "            success = 0\n",
    "    return success\n",
    "        "
   ]
  },
  {
   "cell_type": "code",
   "execution_count": null,
   "metadata": {},
   "outputs": [],
   "source": [
    "def belief_prop(C, D, MAX_ITERS, Na, Nf, Ma, Mf, p, k) :\n",
    "    a2f, f2a = produce_a2f(p, Na, Nf, Ma, Mf), produce_f2a(p, Na, Nf, Ma, Mf)\n",
    "    f_init, LL_reg = LL_init(Na, Nf, k, p)\n",
    "    success = 0\n",
    "    i = 0\n",
    "    while (i < MAX_ITERS) :\n",
    "        LL_reg = cs_msgs_2_bits(m, d, cs_index, cs_list, LL_reg, Ma)\n",
    "        y, LL_reg = bit_msgs_2_cs(n, f_init, a2f, Mf, LL_reg, y)\n",
    "        success = converged(m, cs_index, cs_list, c)\n",
    "        i += 1\n",
    "        if success == 1 : \n",
    "            break\n",
    "    return y, success"
   ]
  },
  {
   "cell_type": "code",
   "execution_count": null,
   "metadata": {},
   "outputs": [],
   "source": [
    "#Step1 : Produce parity check matrix(M1) of dimension m*n, n is length of bitstring and m is no. of parity check equations\n",
    "M1 = parity_matrix(m, n)\n",
    "k = non_zeros(M)\n",
    "\n",
    "#Step2 : Sita produces the syndrome and hash values\n",
    "C = syndrome(M1, sita_bits)\n",
    "H = hash_function(sita_bits)\n",
    "\n",
    "#Step3 : Sita sends syndrome and hash values via CAC\n",
    "\n",
    "#Step4 : Ram produces the syndrome\n",
    "D = syndrome(M1, ram_bits)\n",
    "\n",
    "#Step5 : Ram performs belief propagation algorithm\n",
    "y1, success = belief_prop(C, D, MAX_ITERS, Na, Nf, Ma, Mf, p, k)\n",
    "    \n",
    "#Step6 : Ram sends success of reconciliation\n",
    "    \n",
    "    "
   ]
  }
 ],
 "metadata": {
  "kernelspec": {
   "display_name": "Python 3",
   "language": "python",
   "name": "python3"
  },
  "language_info": {
   "codemirror_mode": {
    "name": "ipython",
    "version": 3
   },
   "file_extension": ".py",
   "mimetype": "text/x-python",
   "name": "python",
   "nbconvert_exporter": "python",
   "pygments_lexer": "ipython3",
   "version": "3.8.3"
  }
 },
 "nbformat": 4,
 "nbformat_minor": 4
}
