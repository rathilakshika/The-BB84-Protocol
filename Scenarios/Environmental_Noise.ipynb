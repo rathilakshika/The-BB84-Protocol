{
 "cells": [
  {
   "cell_type": "code",
   "execution_count": 2,
   "metadata": {},
   "outputs": [],
   "source": [
    "from qiskit import *\n",
    "from numpy.random import randint, shuffle\n",
    "from qiskit.visualization import plot_histogram, plot_bloch_multivector\n",
    "import numpy as np\n",
    "%run ../Functions/BB84_functions.ipynb\n",
    "%run ../Functions/LDPC_functionsMD.ipynb"
   ]
  },
  {
   "cell_type": "code",
   "execution_count": 45,
   "metadata": {},
   "outputs": [],
   "source": [
    "n, N =1000, 4200\n",
    "if n == 648 or n == 50 :\n",
    "    MAX_ERROR_RATE = 1\n",
    "else :\n",
    "    MAX_ERROR_RATE = 0.70    \n",
    "EMPTY = QuantumCircuit(N, N)\n",
    "MAX_ITERS = 30"
   ]
  },
  {
   "cell_type": "code",
   "execution_count": 43,
   "metadata": {},
   "outputs": [],
   "source": [
    "def QCC(qubits, N) :\n",
    "    #e = randint((MAX_ERROR_RATE * N) // 100 + 1)\n",
    "    e = int((MAX_ERROR_RATE * N) // 100) + 1\n",
    "    circ = qubits.copy()\n",
    "    rand_pos = random.sample(range(N), e)\n",
    "    for pos in rand_pos :\n",
    "        random_gate = randint(2)\n",
    "        if random_gate == 0:\n",
    "            circ.x(pos)\n",
    "        else :\n",
    "            circ.h(pos)\n",
    "    return circ"
   ]
  },
  {
   "cell_type": "code",
   "execution_count": 5,
   "metadata": {},
   "outputs": [],
   "source": [
    "def CAC(bits) :\n",
    "    return bits"
   ]
  },
  {
   "cell_type": "code",
   "execution_count": 6,
   "metadata": {},
   "outputs": [],
   "source": [
    "def generate_and_send(N) :\n",
    "    #Step 1 - Alice generates bits\n",
    "    alice_bits = bit_string(N)\n",
    "\n",
    "    #Step 2 - Alice generates the bases string\n",
    "    alice_bases = bit_string(N)\n",
    "\n",
    "    #Step 3 - Bob generates the bases string\n",
    "    bob_bases = bit_string(N)\n",
    "    \n",
    "    #Step 4 - Alice encodes her bits in the chosen bases \n",
    "    alice_encode = encode_bits(alice_bits, alice_bases)\n",
    "\n",
    "    #Step 5 - Alice sends her encoded bits to Bob and Eve tries to intercept over the Quantum channel\n",
    "    received_encode = QCC(alice_encode, N)\n",
    "    \n",
    "    #Step 6 - Bob announces that he has received the encoding and measured it over CAC\n",
    "    if received_encode == EMPTY :\n",
    "        received = False\n",
    "    else :\n",
    "        received = True\n",
    "    \n",
    "    return alice_bits, alice_bases, bob_bases, received_encode, received"
   ]
  },
  {
   "cell_type": "markdown",
   "metadata": {},
   "source": [
    "|Information|Alice|Bob|\n",
    "|:-:|:-:|:-:|\n",
    "|Alice's bits|Y|N|\n",
    "|Alice's bases|Y|N|\n",
    "|Bob's bases|N|Y|\n",
    "|Alice's Encoding|Y|Noisy|"
   ]
  },
  {
   "cell_type": "code",
   "execution_count": 7,
   "metadata": {},
   "outputs": [],
   "source": [
    "def sifting(alice_bases, bob_bases, received_encode) :\n",
    "    #Step 7 - Bob measures Alice's bits in the chosen bases\n",
    "    bob_circuit, bob_bits = measure_bits(received_encode, bob_bases)\n",
    "\n",
    "    #Step 8 - Alice and Bob exchange their bases over CAC\n",
    "    a2b = CAC(alice_bases)\n",
    "    b2a = CAC(bob_bases)\n",
    "\n",
    "    #Step 9 - Alice and Bob discard all the bits that correspond to disagreed bases\n",
    "    agreed_base_indices = agreed_bases(alice_bases, bob_bases)\n",
    "    #bob_circuit.draw(output = 'mpl')\n",
    "    \n",
    "    return bob_bits, agreed_base_indices"
   ]
  },
  {
   "cell_type": "markdown",
   "metadata": {},
   "source": [
    "|Information|Alice|Bob|\n",
    "|:-:|:-:|:-:|\n",
    "|Bobs bits|N|Y|\n",
    "|Bob's and Alice's bases|Y|Y|"
   ]
  },
  {
   "cell_type": "code",
   "execution_count": 14,
   "metadata": {},
   "outputs": [],
   "source": [
    "def qber(alice_bits, bob_bits, agreed_base_indices) :\n",
    "    #Step 10 - Error rate checking \n",
    "    S2T = bit_string(len(agreed_base_indices))\n",
    "    T = select_bits(agreed_base_indices, S2T, 0)\n",
    "\n",
    "    #Step 11 - Alice tells T to Bob over CAC\n",
    "    bob_T = CAC(T)\n",
    "\n",
    "    #Step 12 - Alice and Bob generate their test bits \n",
    "    alice_test_bits, bob_test_bits = [], []\n",
    "    for i in T :\n",
    "        alice_test_bits.append(alice_bits[i])\n",
    "        bob_test_bits.append(bob_bits[i])\n",
    "\n",
    "    #Step 12 - Alice and Bob announce their test bits to each other over the CAC\n",
    "    rec_bob_test_bits = CAC(bob_test_bits)\n",
    "    rec_alice_test_bits = CAC(alice_test_bits)\n",
    "\n",
    "    #Step 13 - Alice and Bob compute the error rate\n",
    "    error = error_rate(rec_alice_test_bits, rec_bob_test_bits)\n",
    "    return error, S2T"
   ]
  },
  {
   "cell_type": "markdown",
   "metadata": {},
   "source": [
    "|Information|Alice|Bob|\n",
    "|:-:|:-:|:-:|\n",
    "|T|Y|Y|\n",
    "|Alice's test bits|Y|Y|\n",
    "|Bob's test bits|Y|Y|"
   ]
  },
  {
   "cell_type": "code",
   "execution_count": 9,
   "metadata": {},
   "outputs": [],
   "source": [
    "def reconciliation(alice_bits, bob_bits, qber) :\n",
    "    p = qber\n",
    "    n = len(alice_bits)\n",
    "    #Step1 : Produce parity check matrix(M1) of dimension m*n, n is length of bitstring and m is no. of parity check equations\n",
    "    H, m = parity_matrix(n, p)\n",
    "\n",
    "    #Step2 : Alice produces the syndrome and hash values\n",
    "    C = syndrome(H, alice_bits)\n",
    "\n",
    "    #Step3 : Alice sends syndrome via CAC\n",
    "    received_C = CAC(C)\n",
    "    \n",
    "    #Step4 : Bob produces the syndrome\n",
    "    D = syndrome(H, bob_bits)\n",
    "\n",
    "    #Step5 : Alice performs belief propagation algorithm\n",
    "    y, success, i = belief_prop(received_C, D, bob_bits, MAX_ITERS, p, H)\n",
    "    \n",
    "    #Step6 : Bob sends success of reconciliation\n",
    "    \n",
    "    return y, success"
   ]
  },
  {
   "cell_type": "code",
   "execution_count": 10,
   "metadata": {},
   "outputs": [],
   "source": [
    "def privacy_amplification(alice_pseudokey, bob_pseudokey) :\n",
    "    n, k = len(alice_pseudokey), len(alice_pseudokey) // 2\n",
    "    seed = bit_string(n + k - 1)\n",
    "    alice_key = toeplitz(n, k, alice_pseudokey, seed)\n",
    "    bob_key = toeplitz(n, k, bob_pseudokey, seed)\n",
    "    return alice_key, bob_key, error_rate(alice_key, bob_key)"
   ]
  },
  {
   "cell_type": "code",
   "execution_count": 46,
   "metadata": {
    "scrolled": true
   },
   "outputs": [
    {
     "name": "stdout",
     "output_type": "stream",
     "text": [
      "QBER :  0.005628517823639775\n",
      "Alice's key :  [0, 1, 0, 0, 0, 1, 0, 0, 0, 1, 1, 1, 1, 0, 0, 1, 0, 0, 0, 0, 0, 1, 1, 1, 0, 1, 0, 1, 0, 1, 1, 1, 1, 0, 0, 1, 1, 0, 0, 0, 0, 1, 0, 0, 1, 1, 0, 0, 1, 1, 1, 0, 0, 0, 1, 1, 0, 1, 1, 0, 1, 1, 0, 0, 1, 0, 0, 0, 0, 1, 1, 0, 0, 1, 1, 0, 0, 0, 1, 1, 0, 1, 1, 1, 0, 1, 0, 1, 1, 1, 0, 1, 1, 1, 0, 0, 0, 0, 0, 1, 0, 0, 0, 0, 1, 0, 0, 0, 1, 1, 0, 1, 1, 0, 1, 0, 0, 1, 1, 0, 0, 0, 1, 1, 0, 1, 1, 0, 1, 0, 0, 0, 0, 1, 0, 0, 0, 1, 0, 0, 1, 1, 1, 0, 1, 0, 0, 0, 1, 0, 0, 1, 0, 1, 1, 1, 1, 0, 0, 0, 1, 1, 0, 0, 0, 1, 1, 0, 0, 0, 0, 0, 1, 0, 0, 1, 0, 0, 0, 1, 1, 1, 1, 0, 0, 1, 1, 0, 1, 1, 0, 1, 0, 0, 0, 1, 1, 0, 0, 1, 0, 0, 1, 1, 0, 0, 1, 1, 1, 0, 1, 1, 0, 1, 1, 0, 0, 1, 1, 1, 0, 0, 1, 0, 1, 0, 0, 0, 1, 0, 1, 0, 1, 0, 0, 1, 0, 1, 0, 1, 1, 0, 0, 1, 1, 1, 1, 0, 1, 0, 0, 0, 1, 1, 1, 1, 1, 0, 0, 1, 0, 0, 0, 1, 1, 0, 1, 1, 0, 1, 1, 1, 0, 0, 0, 0, 1, 0, 1, 1, 1, 0, 0, 1, 1, 1, 1, 1, 0, 1, 0, 1, 1, 0, 1, 0, 1, 0, 0, 0, 0, 1, 0, 1, 0, 0, 0, 0, 0, 0, 1, 0, 1, 1, 1, 0, 0, 1, 1, 1, 0, 0, 0, 1, 1, 1, 1, 1, 0, 0, 0, 0, 1, 0, 1, 0, 0, 0, 0, 1, 0, 0, 1, 0, 1, 0, 0, 0, 1, 0, 1, 0, 0, 1, 1, 0, 0, 0, 0, 0, 1, 0, 0, 0, 0, 1, 1, 1, 0, 1, 0, 1, 0, 0, 0, 1, 1, 0, 0, 0, 0, 0, 1, 0, 1, 0, 1, 0, 1, 0, 0, 1, 0, 1, 1, 0, 0, 1, 0, 1, 0, 0, 0, 0, 0, 1, 0, 1, 1, 0, 0, 0, 1, 0, 0, 0, 0, 1, 0, 0, 1, 0, 0, 1, 1, 1, 0, 0, 0, 0, 1, 0, 0, 0, 0, 1, 1, 0, 1, 1, 0, 1, 1, 1, 1, 1, 1, 0, 0, 0, 1, 0, 1, 0, 0, 0, 0, 1, 1, 0, 1, 1, 0, 1, 1, 0, 0, 1, 1, 0, 0, 0, 0, 1, 0, 0, 1, 0, 1, 1, 1, 0, 0, 1, 0, 0, 1, 1, 0, 0, 0, 0, 1, 1, 0, 1, 1, 0, 1, 1, 0, 1, 0, 0, 0, 1, 1, 1, 0, 0, 0, 1, 0, 1, 1]\n",
      "Bob's key :  [0, 1, 0, 0, 0, 1, 0, 0, 0, 1, 1, 1, 1, 0, 0, 1, 0, 0, 0, 0, 0, 1, 1, 1, 0, 1, 0, 1, 0, 1, 1, 1, 1, 0, 0, 1, 1, 0, 0, 0, 0, 1, 0, 0, 1, 1, 0, 0, 1, 1, 1, 0, 0, 0, 1, 1, 0, 1, 1, 0, 1, 1, 0, 0, 1, 0, 0, 0, 0, 1, 1, 0, 0, 1, 1, 0, 0, 0, 1, 1, 0, 1, 1, 1, 0, 1, 0, 1, 1, 1, 0, 1, 1, 1, 0, 0, 0, 0, 0, 1, 0, 0, 0, 0, 1, 0, 0, 0, 1, 1, 0, 1, 1, 0, 1, 0, 0, 1, 1, 0, 0, 0, 1, 1, 0, 1, 1, 0, 1, 0, 0, 0, 0, 1, 0, 0, 0, 1, 0, 0, 1, 1, 1, 0, 1, 0, 0, 0, 1, 0, 0, 1, 0, 1, 1, 1, 1, 0, 0, 0, 1, 1, 0, 0, 0, 1, 1, 0, 0, 0, 0, 0, 1, 0, 0, 1, 0, 0, 0, 1, 1, 1, 1, 0, 0, 1, 1, 0, 1, 1, 0, 1, 0, 0, 0, 1, 1, 0, 0, 1, 0, 0, 1, 1, 0, 0, 1, 1, 1, 0, 1, 1, 0, 1, 1, 0, 0, 1, 1, 1, 0, 0, 1, 0, 1, 0, 0, 0, 1, 0, 1, 0, 1, 0, 0, 1, 0, 1, 0, 1, 1, 0, 0, 1, 1, 1, 1, 0, 1, 0, 0, 0, 1, 1, 1, 1, 1, 0, 0, 1, 0, 0, 0, 1, 1, 0, 1, 1, 0, 1, 1, 1, 0, 0, 0, 0, 1, 0, 1, 1, 1, 0, 0, 1, 1, 1, 1, 1, 0, 1, 0, 1, 1, 0, 1, 0, 1, 0, 0, 0, 0, 1, 0, 1, 0, 0, 0, 0, 0, 0, 1, 0, 1, 1, 1, 0, 0, 1, 1, 1, 0, 0, 0, 1, 1, 1, 1, 1, 0, 0, 0, 0, 1, 0, 1, 0, 0, 0, 0, 1, 0, 0, 1, 0, 1, 0, 0, 0, 1, 0, 1, 0, 0, 1, 1, 0, 0, 0, 0, 0, 1, 0, 0, 0, 0, 1, 1, 1, 0, 1, 0, 1, 0, 0, 0, 1, 1, 0, 0, 0, 0, 0, 1, 0, 1, 0, 1, 0, 1, 0, 0, 1, 0, 1, 1, 0, 0, 1, 0, 1, 0, 0, 0, 0, 0, 1, 0, 1, 1, 0, 0, 0, 1, 0, 0, 0, 0, 1, 0, 0, 1, 0, 0, 1, 1, 1, 0, 0, 0, 0, 1, 0, 0, 0, 0, 1, 1, 0, 1, 1, 0, 1, 1, 1, 1, 1, 1, 0, 0, 0, 1, 0, 1, 0, 0, 0, 0, 1, 1, 0, 1, 1, 0, 1, 1, 0, 0, 1, 1, 0, 0, 0, 0, 1, 0, 0, 1, 0, 1, 1, 1, 0, 0, 1, 0, 0, 1, 1, 0, 0, 0, 0, 1, 1, 0, 1, 1, 0, 1, 1, 0, 1, 0, 0, 0, 1, 1, 1, 0, 0, 0, 1, 0, 1, 1]\n",
      "Final error rate in Bob's key :  0.0\n"
     ]
    }
   ],
   "source": [
    "#Step 1 to Step 6\n",
    "alice_bits, alice_bases, bob_bases, received_encode, received = generate_and_send(N)\n",
    "if not received :\n",
    "    print('Abort : Did not receive qubits')\n",
    "\n",
    "else :\n",
    "    #Step 7 to Step 9\n",
    "    bob_bits, agreed_base_indices = sifting(alice_bases, bob_bases, received_encode)\n",
    "    \n",
    "    #Step 10 to Step 13\n",
    "    error, S2T = qber(alice_bits, bob_bits, agreed_base_indices)\n",
    "    print(\"QBER : \", error)\n",
    "    \n",
    "    #Step 14 - Alice and Bob check over a threshold for error before proceeding ahead\n",
    "    if error > 0.11 :\n",
    "        print (\"Abort : Error rate is too high\")\n",
    "    \n",
    "    else :\n",
    "        #Step 15 - Alice and Bob generate their pseudo keys\n",
    "        SminusT = select_bits(agreed_base_indices, S2T, 1)\n",
    "        alice_pseudokey, bob_pseudokey = [], []\n",
    "        for i in SminusT :\n",
    "            alice_pseudokey.append(alice_bits[i])\n",
    "            bob_pseudokey.append(bob_bits[i])\n",
    "        \n",
    "        if error != 0 :\n",
    "            #Step 16 - Information Reconciliation\n",
    "            if 648 <= len(alice_pseudokey) <= 700 :\n",
    "                alice_pseudokey = alice_pseudokey[:648]\n",
    "                bob_pseudokey = bob_pseudokey[:648]\n",
    "            if 50 <= len(alice_pseudokey) <= 75 :\n",
    "            bob_corrected_key, success = reconciliation(alice_pseudokey, bob_pseudokey, error) if error != 0 else (bob_pseudokey, 1)\n",
    "        \n",
    "            if not success :\n",
    "                print(\"Abort : Reconcilation not succeeded\")\n",
    "        \n",
    "            else :\n",
    "                #Step 17 - alice and bob perform privacy amplification\n",
    "                alice_key, bob_key, error = privacy_amplification(alice_pseudokey, bob_corrected_key)\n",
    "                print(\"Alice's key : \", alice_key)\n",
    "                print(\"Bob's key : \", bob_key)\n",
    "                print(\"Final error rate in Bob's key : \", error)\n",
    "            \n",
    "    \n",
    "        else :\n",
    "            #Step 17 - alice and bob perform privacy amplification\n",
    "            alice_key, bob_key, error = privacy_amplification(alice_pseudokey, bob_pseudokey)\n",
    "            print(\"Alice's key : \", alice_key)\n",
    "            print(\"Bob's key : \", bob_key)\n",
    "            print(\"Final error rate in Bob's key : \", error)\n",
    "            "
   ]
  },
  {
   "cell_type": "markdown",
   "metadata": {},
   "source": [
    "|Information|Alice|Bob|\n",
    "|:-:|:-:|:-:|\n",
    "|Final key|Y|Y|"
   ]
  },
  {
   "cell_type": "code",
   "execution_count": null,
   "metadata": {},
   "outputs": [],
   "source": []
  }
 ],
 "metadata": {
  "kernelspec": {
   "display_name": "Python 3",
   "language": "python",
   "name": "python3"
  },
  "language_info": {
   "codemirror_mode": {
    "name": "ipython",
    "version": 3
   },
   "file_extension": ".py",
   "mimetype": "text/x-python",
   "name": "python",
   "nbconvert_exporter": "python",
   "pygments_lexer": "ipython3",
   "version": "3.8.3"
  }
 },
 "nbformat": 4,
 "nbformat_minor": 4
}
