{
 "cells": [
  {
   "cell_type": "code",
   "execution_count": 1,
   "metadata": {},
   "outputs": [],
   "source": [
    "import numpy as np\n",
    "from math import exp, log\n",
    "from numpy.random import randint"
   ]
  },
  {
   "cell_type": "code",
   "execution_count": 2,
   "metadata": {},
   "outputs": [],
   "source": [
    "def quasi_cyclic() :\n",
    "    I = np.eye(27)\n",
    "    O = np.zeros((27, 27))\n",
    "    Is = [np.roll(I, -p, 0) for p in range(27)]\n",
    "    H = np.block([[Is[0], O, O, O, Is[0], Is[0], O, O, Is[0], O, O, Is[0], Is[1], Is[0], O, O, O, O, O, O, O, O, O, O], \n",
    "                 [Is[22], Is[0], O, O, Is[17], O, Is[0], Is[0], Is[12], O, O, O, O, Is[0], Is[0], O, O, O, O, O, O, O, O, O],\n",
    "                 [Is[6], O, Is[0], O, Is[10], O, O, O, Is[24], O, Is[0], O, O, O, Is[0], Is[0], O, O, O, O, O, O, O, O],\n",
    "                 [Is[2], O, O, Is[0], Is[20], O, O ,O, Is[25], Is[0], O, O, O, O, O, Is[0], Is[0], O, O, O, O, O, O, O],\n",
    "                 [Is[23], O, O, O, Is[3], O, O, O, Is[0], O, Is[7], Is[11], O, O, O, O, Is[0], Is[0], O, O, O, O, O, O],\n",
    "                 [Is[24], O, Is[23], Is[1], Is[17], O, Is[3], O, Is[10], O, O, O, O, O, O, O, O, Is[0], Is[0], O, O, O, O, O],\n",
    "                 [Is[25], O, O, O, Is[8], O, O, O, Is[7], Is[18], O, O, O, O, O, O, O, O, Is[0], Is[0], O, O, O, O],\n",
    "                 [Is[13], Is[24], O, Is[16], Is[0], O, Is[8], O, Is[6], O, O, O, O, O, O, O, O, O, O, Is[0], Is[0], O, O, O],\n",
    "                 [Is[7], Is[20], O, O, Is[22], Is[10], O, O, Is[23], O, O, O, O, O, O, O, O, O, O, O, Is[0], Is[0], O, O],\n",
    "                 [Is[11], O, O, O, Is[19], O, O, O, Is[13], O, Is[3], Is[17], O, O, O, O, O, O, O, O, O, Is[0], Is[0], O],\n",
    "                 [Is[25], O, Is[8], O, Is[23], Is[18], O, Is[14], Is[9], O, O, O, O, O, O, O, O, O, O, O, O, O, Is[0], Is[0]],\n",
    "                 [Is[3], O, O, O, Is[16], O, O, Is[2], Is[25], Is[5], O, O, O, O, O, O, O, O, O, O, O, O, O, Is[0]]])\n",
    "    return H"
   ]
  },
  {
   "cell_type": "code",
   "execution_count": 3,
   "metadata": {},
   "outputs": [],
   "source": [
    "def build_matrix(m, n) :\n",
    "    cols = randint(3, 8, n)\n",
    "    rows = randint(4, 11, m)\n",
    "    cols_cnt = [0 for _ in range(n)]\n",
    "    H = np.zeros((m, n), dtype = int)\n",
    "    \n",
    "    for i in range(m) :\n",
    "        indices = randint(0, n, rows[i])\n",
    "        for index in indices :\n",
    "            j = index\n",
    "            while (cols_cnt[index] > cols[index] and j < n - 1) :\n",
    "                j = j + 1\n",
    "            cols_cnt[j] += 1\n",
    "            H[i, j] = 1\n",
    "    return H"
   ]
  },
  {
   "cell_type": "code",
   "execution_count": 4,
   "metadata": {},
   "outputs": [],
   "source": [
    "def parity_matrix(n, p) :\n",
    "    if n == 648 :\n",
    "        H = quasi_cyclic()\n",
    "    else :\n",
    "        if p <= 0.02 :\n",
    "            H = build_matrix(n // 5, n)\n",
    "        elif p <= 0.04 :\n",
    "            H = build_matrix(n // 3, n)\n",
    "        elif p <= 0.08 :\n",
    "            H = build_matrix(n // 2, n)\n",
    "        else :\n",
    "            H = build_matrix(2 * n // 3, n)\n",
    "    return H"
   ]
  },
  {
   "cell_type": "code",
   "execution_count": 5,
   "metadata": {},
   "outputs": [],
   "source": [
    "def lookup_tables(H) :\n",
    "    LL_index = [0]\n",
    "    LL_groups = 1\n",
    "    for row in np.transpose(H) :\n",
    "        LL_index.append(LL_groups)\n",
    "        LL_groups += sum(row)\n",
    "    LL_index.append(len(LL_index))\n",
    "    \n",
    "    cs_index = [0]\n",
    "    cs_groups = 1\n",
    "    for row in H :\n",
    "        cs_index.append(cs_groups)\n",
    "        cs_groups += sum(row)\n",
    "    cs_index.append(len(cs_index))\n",
    "    \n",
    "    cs_list = [0]\n",
    "    n = len(H[0])\n",
    "    m = len(H)\n",
    "    bit_cs = [0 for _ in range(n + 1)]\n",
    "    for row in range(m) :\n",
    "        for bit in range(n) :\n",
    "            if H[row, bit] == 1 :\n",
    "                cs_list.append([bit + 1, LL_index[bit + 1] + bit_cs[bit + 1]])\n",
    "                bit_cs[bit + 1] += 1\n",
    "                \n",
    "    return np.array(LL_index), np.array(cs_index), np.array(cs_list)"
   ]
  },
  {
   "cell_type": "code",
   "execution_count": 6,
   "metadata": {},
   "outputs": [],
   "source": [
    "def non_zeros(M) :\n",
    "    return sum([sum(row) for row in M])"
   ]
  },
  {
   "cell_type": "code",
   "execution_count": 7,
   "metadata": {},
   "outputs": [],
   "source": [
    "def syndrome(M1, x) :\n",
    "    return np.matmul(M1, np.transpose(np.array(x)))"
   ]
  },
  {
   "cell_type": "code",
   "execution_count": 8,
   "metadata": {},
   "outputs": [],
   "source": [
    "def LL_init(k, p) :\n",
    "    LL_reg = [0]\n",
    "    f_init = (1-p)/p\n",
    "    a_init = (1 - 2 * p)\n",
    "    for i in range(1, k + 1) :\n",
    "        LL_reg.append(a_init)\n",
    "    return f_init, LL_reg"
   ]
  },
  {
   "cell_type": "code",
   "execution_count": 9,
   "metadata": {},
   "outputs": [],
   "source": [
    "def cs_msgs_2_bits(m, d, cs_index, cs_list, LL_reg) : \n",
    "    for i in range(1, m + 1) :\n",
    "        alpha = (-1) ** (d[i])\n",
    "        j1 = cs_index[i]\n",
    "        j2 = cs_index[i + 1]\n",
    "        for j in range(j1, j2) :\n",
    "            a1 = LL_reg[cs_list[j][1]]\n",
    "            alpha *= a1 \n",
    "        if 0 > alpha > -0.0001 :\n",
    "            alpha = -0.0001\n",
    "        if 0.0001 > alpha >= 0 :\n",
    "            alpha = 0.0001\n",
    "        for j in range(j1, j2) :\n",
    "            a1 = LL_reg[cs_list[j][1]]\n",
    "            f = (a1 + alpha) / (a1 - alpha)\n",
    "            if f < 0.001 :\n",
    "                f = 0.001\n",
    "            if 0.999 < f < 1.0 :\n",
    "                f = 0.999\n",
    "            if 1.0 <= f < 1.0001 :\n",
    "                f = 1.001\n",
    "            if f > 1000 :\n",
    "                f = 1000\n",
    "            LL_reg[cs_list[j][1]] = f\n",
    "    return LL_reg"
   ]
  },
  {
   "cell_type": "code",
   "execution_count": 10,
   "metadata": {},
   "outputs": [],
   "source": [
    "def bit_msgs_2_cs(n, f_init, LL_reg, y) :\n",
    "    y1 = []\n",
    "    for i in range(1, n + 1) :\n",
    "        j1, j2 = LL_index[i], LL_index[i + 1]\n",
    "        f_tot = f_init\n",
    "        for j in range(j1, j2) :\n",
    "            f = LL_reg[j]\n",
    "            f_tot *= f\n",
    "            \n",
    "        for j in range(j1, j2) :\n",
    "            f = f_tot - LL_reg[j]\n",
    "            a = (f_tot - f) / (f_tot + f)\n",
    "            if a < 0 :\n",
    "                if a > -0.001 :\n",
    "                    a = -0.001\n",
    "                if a < -0.999 :\n",
    "                    a = -0.999\n",
    "            else :\n",
    "                if a < 0.001 :\n",
    "                    a = 0.001\n",
    "                if a > 0.999 :\n",
    "                    a = 0.999\n",
    "            LL_reg[j] = a\n",
    "        \n",
    "        if f_tot < 1.0 :\n",
    "            y1.append(1 - y[i])\n",
    "        else : \n",
    "            y1.append(y[i])\n",
    "    return y1, LL_reg"
   ]
  },
  {
   "cell_type": "code",
   "execution_count": 11,
   "metadata": {},
   "outputs": [],
   "source": [
    "def converged(m, cs_index, cs_list, C) :\n",
    "    success = 1\n",
    "    for i in range(1, m + 1) :\n",
    "        chksum = 0\n",
    "        j1, j2 = cs_index[i], cs_index[i + 1]\n",
    "        for j in range(j1, j2) :\n",
    "            chksum = chksum ^ cs_list[j][0]\n",
    "        if chksum != c[i] :\n",
    "            success = 0\n",
    "    return success"
   ]
  },
  {
   "cell_type": "code",
   "execution_count": 12,
   "metadata": {},
   "outputs": [],
   "source": [
    "def belief_prop(C, D, MAX_ITERS, p, k, y, H) :\n",
    "    f_init, LL_reg = LL_init(k, p)\n",
    "    LL_index, cs_index, cs_list = lookup_tables(H)\n",
    "    success = 0\n",
    "    i = 0\n",
    "    while (i < MAX_ITERS) :\n",
    "        LL_reg = cs_msgs_2_bits(m, d, cs_index, cs_list, LL_reg)\n",
    "        y, LL_reg = bit_msgs_2_cs(n, f_init, LL_reg, y)\n",
    "        success = converged(m, cs_index, cs_list, C)\n",
    "        i += 1\n",
    "        if success == 1 : \n",
    "            break\n",
    "    return y, success"
   ]
  }
 ],
 "metadata": {
  "kernelspec": {
   "display_name": "Python 3",
   "language": "python",
   "name": "python3"
  },
  "language_info": {
   "codemirror_mode": {
    "name": "ipython",
    "version": 3
   },
   "file_extension": ".py",
   "mimetype": "text/x-python",
   "name": "python",
   "nbconvert_exporter": "python",
   "pygments_lexer": "ipython3",
   "version": "3.7.3"
  }
 },
 "nbformat": 4,
 "nbformat_minor": 4
}
