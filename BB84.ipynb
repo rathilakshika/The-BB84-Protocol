{
 "cells": [
  {
   "cell_type": "code",
   "execution_count": 30,
   "metadata": {},
   "outputs": [],
   "source": [
    "from qiskit import *\n",
    "from numpy.random import randint\n",
    "from qiskit.visualization import plot_histogram, plot_bloch_multivector"
   ]
  },
  {
   "cell_type": "code",
   "execution_count": 31,
   "metadata": {},
   "outputs": [],
   "source": [
    "def bit_string(n):\n",
    "    return randint(2, size = n)"
   ]
  },
  {
   "cell_type": "code",
   "execution_count": 32,
   "metadata": {},
   "outputs": [],
   "source": [
    "def encode_bits(bits, bases):\n",
    "    base_encoding = []\n",
    "    for bit, base in zip(bits, bases):\n",
    "        base_circuit = QuantumCircuit(1, 1)\n",
    "        if base == 0:\n",
    "            if bit == 1:\n",
    "                base_circuit.x(0)\n",
    "        if base == 1:\n",
    "            if bit == 0:\n",
    "                base_circuit.h(0)\n",
    "            if bit == 1:\n",
    "                base_circuit.x(0)\n",
    "                base_circuit.h(0)\n",
    "        base_circuit.barrier()\n",
    "        base_encoding.append(base_circuit)\n",
    "    return base_encoding"
   ]
  },
  {
   "cell_type": "code",
   "execution_count": 33,
   "metadata": {},
   "outputs": [],
   "source": [
    "def measure_bits(bits, bases):\n",
    "    backend = Aer.get_backend('qasm_simulator')\n",
    "    measured_bits = []\n",
    "    for j in range(len(bits)):\n",
    "        if bases[j] == 0:\n",
    "            bits[j].measure(0,0)\n",
    "        if bases[j] == 1:\n",
    "            bits[j].h(0)\n",
    "            bits[j].measure(0,0)\n",
    "        result = execute(bits[j], backend, shots=1, memory = True).result()\n",
    "        measured_bit = int(result.get_memory()[0])\n",
    "        measured_bits.append(measured_bit)\n",
    "    return measured_bits"
   ]
  },
  {
   "cell_type": "code",
   "execution_count": 34,
   "metadata": {},
   "outputs": [],
   "source": [
    "def agreed_bases(a, b):\n",
    "    return [j for j in range(len(a)) if a[j] == b[j]]"
   ]
  },
  {
   "cell_type": "code",
   "execution_count": 35,
   "metadata": {},
   "outputs": [],
   "source": [
    "def select_bits(bits, selection, test):\n",
    "    return [i for i in range(len(selection)) if selection[i] == test]"
   ]
  },
  {
   "cell_type": "code",
   "execution_count": 36,
   "metadata": {},
   "outputs": [],
   "source": [
    "def error_rate(atest, btest):\n",
    "    W = len([j for j in range(len(atest)) if atest[j] != btest[j]])\n",
    "    return W / len(atest)"
   ]
  },
  {
   "cell_type": "code",
   "execution_count": 37,
   "metadata": {},
   "outputs": [],
   "source": [
    "def information_reconciliation(a, b):\n",
    "    return a, b"
   ]
  },
  {
   "cell_type": "code",
   "execution_count": 38,
   "metadata": {},
   "outputs": [],
   "source": [
    "def two_universalhash(a, b):\n",
    "    return a, b"
   ]
  },
  {
   "cell_type": "code",
   "execution_count": 39,
   "metadata": {},
   "outputs": [],
   "source": [
    "n = 7\n",
    "N = 28\n",
    "\n",
    "#Step 1 - Alice generates bits\n",
    "alice_bits = bit_string(N)\n",
    "\n",
    "#Step 2 - Alice generates the bases string\n",
    "alice_bases = bit_string(N)\n",
    "\n",
    "#Step 3 - Bob generates the bases string\n",
    "bob_bases = bit_string(N)"
   ]
  },
  {
   "cell_type": "code",
   "execution_count": 40,
   "metadata": {},
   "outputs": [],
   "source": [
    "#Step 4 - Alice encodes her bits in the chosen bases \n",
    "alice_encode = encode_bits(alice_bits, alice_bases)\n",
    "\n",
    "#Step 5 - Alice sends her encoded bits to Bob and Eve tries to intercept over the Quantum channel\n",
    "\n",
    "#Step 6 - Bob measures Alics's bits in the chosen bases\n",
    "bob_bits = measure_bits(alice_encode, bob_bases)\n",
    "\n",
    "#Step 7 - Bob announces that he has received the encoding and measured it over CAC\n",
    "\n",
    "#Step 8 - Alice and Bob exchange their bases over CAC\n",
    "\n",
    "#Step 9 - Alice and Bob discard all the bits that correspond to disagreed bases\n",
    "agreed_base_indices = agreed_bases(alice_bases, bob_bases)"
   ]
  },
  {
   "cell_type": "code",
   "execution_count": 41,
   "metadata": {},
   "outputs": [],
   "source": [
    "#Step 10 - Error rate checking \n",
    "S2T = bit_string(len(agreed_base_indices))\n",
    "T = select_bits(agreed_base_indices, S2T, 0)\n",
    "\n",
    "#Step 11 - Alice tells T to bob over CAC\n",
    "\n",
    "#Step 12 - Alice and Bob generate their test bits \n",
    "alice_test_bits = [alice_bits[i] for i in T]\n",
    "bob_test_bits = [bob_bits[i] for i in T]\n",
    "\n",
    "#Step 12 - Alice and Bob announce their test bits to each other over the CAC\n",
    "\n",
    "#Step 13 - Alice and Bob compute the error rate\n",
    "error = error_rate(alice_test_bits, bob_test_bits)"
   ]
  },
  {
   "cell_type": "code",
   "execution_count": 42,
   "metadata": {},
   "outputs": [],
   "source": [
    "#Step 14 - Alice and Bob check over a threshold for error before proceeding ahead\n",
    "\n",
    "#Step 15 - Alice and Bob generate their pseudo keys\n",
    "SminusT = select_bits(agreed_base_indices, S2T, 1)\n",
    "alice_pseudokey = [alice_bits[i] for i in SminusT]\n",
    "bob_pseudokey = [bob_bits[i] for i in SminusT]\n",
    "\n",
    "#Step 16 - Alice and Bob perform Information Reconciliation\n",
    "\n",
    "#Step 17 - Alice and Bob perform privacy amplification"
   ]
  },
  {
   "cell_type": "code",
   "execution_count": null,
   "metadata": {},
   "outputs": [],
   "source": []
  }
 ],
 "metadata": {
  "kernelspec": {
   "display_name": "Python 3",
   "language": "python",
   "name": "python3"
  },
  "language_info": {
   "codemirror_mode": {
    "name": "ipython",
    "version": 3
   },
   "file_extension": ".py",
   "mimetype": "text/x-python",
   "name": "python",
   "nbconvert_exporter": "python",
   "pygments_lexer": "ipython3",
   "version": "3.7.3"
  }
 },
 "nbformat": 4,
 "nbformat_minor": 4
}
