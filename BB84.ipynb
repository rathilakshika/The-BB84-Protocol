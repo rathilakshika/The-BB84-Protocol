{
 "cells": [
  {
   "cell_type": "code",
   "execution_count": 2,
   "metadata": {},
   "outputs": [],
   "source": [
    "from qiskit import *\n",
    "from numpy.random import randint\n",
    "from qiskit.visualization import plot_histogram, plot_bloch_multivector"
   ]
  },
  {
   "cell_type": "code",
   "execution_count": 3,
   "metadata": {},
   "outputs": [],
   "source": [
    "def bit_string(n):\n",
    "    return randint(2, size = n)"
   ]
  },
  {
   "cell_type": "code",
   "execution_count": 4,
   "metadata": {},
   "outputs": [],
   "source": [
    "def encode_bits(bits, bases):\n",
    "    base_encoding = []\n",
    "    for bit, base in zip(bits, bases):\n",
    "        base_circuit = QuantumCircuit(1, 1)\n",
    "        if base == 0:\n",
    "            if bit == 1:\n",
    "                base_circuit.x(0)\n",
    "        if base == 1:\n",
    "            if bit == 0:\n",
    "                base_circuit.h(0)\n",
    "            if bit == 1:\n",
    "                base_circuit.x(0)\n",
    "                base_circuit.h(0)\n",
    "        base_circuit.barrier()\n",
    "        base_encoding.append(base_circuit)\n",
    "    return base_encoding"
   ]
  },
  {
   "cell_type": "code",
   "execution_count": 15,
   "metadata": {},
   "outputs": [],
   "source": [
    "def measure_bits(bits, bases):\n",
    "    backend = Aer.get_backend('qasm_simulator')\n",
    "    measured_bits = []\n",
    "    for j in range(len(bits)):\n",
    "        if bases[j] == 0:\n",
    "            bits[j].measure(0,0)\n",
    "        if bases[j] == 1: # measuring in X-basis\n",
    "            bits[j].h(0)\n",
    "            bits[j].measure(0,0)\n",
    "        result = execute(bits[j], backend, shots=1, memory=True).result()\n",
    "        measured_bit = int(result.get_memory()[0])\n",
    "        measured_bits.append(measured_bit)\n",
    "    return measured_bits"
   ]
  },
  {
   "cell_type": "code",
   "execution_count": 6,
   "metadata": {},
   "outputs": [],
   "source": [
    "def agreed_bases(a, b):\n",
    "    return [j for j in range(len(a)) if a[j] == b[j]]"
   ]
  },
  {
   "cell_type": "code",
   "execution_count": 7,
   "metadata": {},
   "outputs": [],
   "source": [
    "def error_rate(atest, btest):\n",
    "    W = len([j for j in range(len(atest)) if atest[j] != btest[j]])\n",
    "    return W / len(atest)"
   ]
  },
  {
   "cell_type": "code",
   "execution_count": 8,
   "metadata": {},
   "outputs": [],
   "source": [
    "def information_reconciliation(a, b):\n",
    "    return a, b"
   ]
  },
  {
   "cell_type": "code",
   "execution_count": 9,
   "metadata": {},
   "outputs": [],
   "source": [
    "def two_universalhash(a, b):\n",
    "    return a, b"
   ]
  },
  {
   "cell_type": "code",
   "execution_count": 10,
   "metadata": {},
   "outputs": [],
   "source": [
    "n = 28\n",
    "\n",
    "#Step 1 - Alice generates bits\n",
    "alice_bits = bit_string(n)\n",
    "\n",
    "#Step 2 - Alice generates the bases string\n",
    "alice_bases = bit_string(n)\n",
    "\n",
    "#Step 3 - Bob generates the bases string\n",
    "bob_bases = bit_string(n)"
   ]
  }
 ],
 "metadata": {
  "kernelspec": {
   "display_name": "Python 3",
   "language": "python",
   "name": "python3"
  },
  "language_info": {
   "codemirror_mode": {
    "name": "ipython",
    "version": 3
   },
   "file_extension": ".py",
   "mimetype": "text/x-python",
   "name": "python",
   "nbconvert_exporter": "python",
   "pygments_lexer": "ipython3",
   "version": "3.7.3"
  }
 },
 "nbformat": 4,
 "nbformat_minor": 4
}
