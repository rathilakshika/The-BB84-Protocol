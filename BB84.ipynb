{
 "cells": [
  {
   "cell_type": "code",
   "execution_count": 19,
   "metadata": {},
   "outputs": [],
   "source": [
    "from qiskit import *\n",
    "from numpy.random import randint, shuffle\n",
    "from qiskit.visualization import plot_histogram, plot_bloch_multivector\n",
    "import numpy as np"
   ]
  },
  {
   "cell_type": "code",
   "execution_count": 34,
   "metadata": {},
   "outputs": [],
   "source": [
    "def bit_string(n):\n",
    "    zeros = [0 for _ in range(n//2)]\n",
    "    ones = [1 for _ in range(n - n//2)]\n",
    "    bits = zeros + ones\n",
    "    np.random.shuffle(bits)\n",
    "    return bits"
   ]
  },
  {
   "cell_type": "code",
   "execution_count": 3,
   "metadata": {},
   "outputs": [],
   "source": [
    "def encode_bits1(bits, bases):\n",
    "    base_encoding = []\n",
    "    for bit, base in zip(bits, bases):\n",
    "        base_circuit = QuantumCircuit(1, 1)\n",
    "        if base == 0:\n",
    "            if bit == 1:\n",
    "                base_circuit.x(0)\n",
    "        if base == 1:\n",
    "            if bit == 0:\n",
    "                base_circuit.h(0)\n",
    "            if bit == 1:\n",
    "                base_circuit.x(0)\n",
    "                base_circuit.h(0)\n",
    "        base_circuit.barrier()\n",
    "        base_encoding.append(base_circuit)\n",
    "    return base_encoding"
   ]
  },
  {
   "cell_type": "code",
   "execution_count": 4,
   "metadata": {},
   "outputs": [],
   "source": [
    "def encode_bits(bits, bases):\n",
    "    l = len(bits)\n",
    "    base_circuit = QuantumCircuit(l, l)\n",
    "    for i in range(l):\n",
    "        if bases[i] == 0:\n",
    "            if bits[i] == 1:\n",
    "                base_circuit.x(i)\n",
    "        if bases[i] == 1:\n",
    "            if bits[i] == 0:\n",
    "                base_circuit.h(i)\n",
    "            if bits[i] == 1:\n",
    "                base_circuit.x(i)\n",
    "                base_circuit.h(i)\n",
    "    return base_circuit"
   ]
  },
  {
   "cell_type": "code",
   "execution_count": 5,
   "metadata": {},
   "outputs": [],
   "source": [
    "def measure_bits1(bits, bases):\n",
    "    backend = Aer.get_backend('qasm_simulator')\n",
    "    measured_bits = []\n",
    "    for j in range(len(bits)):\n",
    "        if bases[j] == 0:\n",
    "            bits[j].measure(0,0)\n",
    "        if bases[j] == 1:\n",
    "            bits[j].h(0)\n",
    "            bits[j].measure(0,0)\n",
    "        result = execute(bits[j], backend, shots=1, memory = True).result()\n",
    "        measured_bit = int(result.get_memory()[0])\n",
    "        measured_bits.append(measured_bit)\n",
    "    return measured_bits"
   ]
  },
  {
   "cell_type": "code",
   "execution_count": 6,
   "metadata": {},
   "outputs": [],
   "source": [
    "def measure_bits(bits, bases):\n",
    "    backend = Aer.get_backend('qasm_simulator')\n",
    "    for j in range(len(bases)):\n",
    "        if bases[j] == 0:\n",
    "            bits.measure(j,j)\n",
    "        if bases[j] == 1:\n",
    "            bits.h(j)\n",
    "            bits.measure(j,j)\n",
    "    r = execute(bits, backend, shots=1, memory = True).result().get_counts()\n",
    "    return bits, [int(ch) for ch in list(r.keys())[0]]"
   ]
  },
  {
   "cell_type": "code",
   "execution_count": 7,
   "metadata": {},
   "outputs": [],
   "source": [
    "def agreed_bases(a, b):\n",
    "    return [j for j in range(len(a)) if a[j] == b[j]]"
   ]
  },
  {
   "cell_type": "code",
   "execution_count": 8,
   "metadata": {},
   "outputs": [],
   "source": [
    "def select_bits(bits, selection, test):\n",
    "    return [i for i in range(len(selection)) if selection[i] == test]"
   ]
  },
  {
   "cell_type": "code",
   "execution_count": 9,
   "metadata": {},
   "outputs": [],
   "source": [
    "def error_rate(atest, btest):\n",
    "    W = len([j for j in range(len(atest)) if atest[j] != btest[j]])\n",
    "    return W / len(atest)"
   ]
  },
  {
   "cell_type": "code",
   "execution_count": 10,
   "metadata": {},
   "outputs": [],
   "source": [
    "def information_reconciliation(a, b):\n",
    "    return a, b"
   ]
  },
  {
   "cell_type": "code",
   "execution_count": 35,
   "metadata": {},
   "outputs": [],
   "source": [
    "def toeplitz(n, k, bits):\n",
    "    seed = bit_string(n + k - 1)\n",
    "    matrix = np.zeros((k, n), dtype = int)\n",
    "    for i in range(k) :\n",
    "        for j in range(n) :\n",
    "            matrix[i,j] = seed[i - j + n - 1]\n",
    "    key = np.matmul(matrix, np.transpose((np.array(bits))))\n",
    "    return [bit%2 for bit in key]"
   ]
  },
  {
   "cell_type": "code",
   "execution_count": 9,
   "metadata": {},
   "outputs": [],
   "source": [
    "n = 3\n",
    "N = 12\n",
    "\n",
    "#Step 1 - Dev generates bits\n",
    "dev_bits = bit_string(N)\n",
    "\n",
    "#Step 2 - Dev generates the bases string\n",
    "dev_bases = bit_string(N)\n",
    "\n",
    "#Step 3 - Abhi generates the bases string\n",
    "abhi_bases = bit_string(N)"
   ]
  },
  {
   "cell_type": "markdown",
   "metadata": {},
   "source": [
    "|Information|Dev|Kaal|Abhi|\n",
    "|:-:|:-:|:-:|:-:|\n",
    "|Dev's bits|Y|N|N|\n",
    "|Dev's bases|Y|N|N|\n",
    "|Abhi's bases|N|Y|N|"
   ]
  },
  {
   "cell_type": "code",
   "execution_count": 13,
   "metadata": {},
   "outputs": [
    {
     "data": {
      "image/png": "[encoded data removed]",
      "text/plain": [
       "<Figure size 971.628x806.68 with 1 Axes>"
      ]
     },
     "execution_count": 13,
     "metadata": {},
     "output_type": "execute_result"
    }
   ],
   "source": [
    "#Step 4 - Dev encodes his bits in the chosen bases \n",
    "dev_encode = encode_bits(dev_bits, dev_bases)\n",
    "\n",
    "#Step 5 - Dev sends his encoded bits to Abhi and Kaal tries to intercept over the Quantum channel\n",
    "\n",
    "#Step 6 - Abhi measures Dev's bits in the chosen bases\n",
    "abhi_circuit, abhi_bits = measure_bits(dev_encode, abhi_bases)\n",
    "\n",
    "#Step 7 - Abhi announces that he has received the encoding and measured it over CAC\n",
    "\n",
    "#Step 8 - Dev and Abhi exchange their bases over CAC\n",
    "\n",
    "#Step 9 - Dev and Abhi discard all the bits that correspond to disagreed bases\n",
    "agreed_base_indices = agreed_bases(dev_bases, abhi_bases)\n",
    "abhi_circuit.draw(output = 'mpl')"
   ]
  },
  {
   "cell_type": "markdown",
   "metadata": {},
   "source": [
    "|Information|Dev|Kaal|Abhi|\n",
    "|:-:|:-:|:-:|:-:|\n",
    "|Dev's Encoding|Y|Partial|Noisy|\n",
    "|Abhi's bits|N|N|Y|\n",
    "|Dev's and Abhi's bases|Y|Y|Y|"
   ]
  },
  {
   "cell_type": "code",
   "execution_count": 14,
   "metadata": {},
   "outputs": [],
   "source": [
    "#Step 10 - Error rate checking \n",
    "S2T = bit_string(len(agreed_base_indices))\n",
    "T = select_bits(agreed_base_indices, S2T, 0)\n",
    "\n",
    "#Step 11 - Dev tells T to Abhi over CAC\n",
    "\n",
    "#Step 12 - Dev and Abhi generate their test bits \n",
    "dev_test_bits = [dev_bits[i] for i in T]\n",
    "abhi_test_bits = [abhi_bits[i] for i in T]\n",
    "\n",
    "#Step 12 - Dev and Abhi announce their test bits to each other over the CAC\n",
    "\n",
    "#Step 13 - Dev and Abhi compute the error rate\n",
    "error = error_rate(dev_test_bits, abhi_test_bits)"
   ]
  },
  {
   "cell_type": "markdown",
   "metadata": {},
   "source": [
    "|Information|Dev|Kaal|Abhi|\n",
    "|:-:|:-:|:-:|:-:|\n",
    "|T|Y|Y|Y|\n",
    "|Dev's test bits|Y|Y|Y|\n",
    "|Abhi's test bits|Y|Y|Y|"
   ]
  },
  {
   "cell_type": "code",
   "execution_count": 15,
   "metadata": {},
   "outputs": [],
   "source": [
    "#Step 14 - Dev and Abhi check over a threshold for error before proceeding ahead\n",
    "\n",
    "#Step 15 - Dev and Abhi generate their pseudo keys\n",
    "SminusT = select_bits(agreed_base_indices, S2T, 1)\n",
    "dev_pseudokey = [dev_bits[i] for i in SminusT]\n",
    "abhi_pseudokey = [abhi_bits[i] for i in SminusT]\n",
    "\n",
    "#Step 16 - Dev and Abhi perform Information Reconciliation\n",
    "dev_reconcile = dev_pseudokey\n",
    "abhi_reconcile = abhi_pseudokey\n",
    "\n",
    "#Step 17 - Dev and Abhi perform privacy amplification\n",
    "dev_key = toeplitz(len(dev_reconcile), len(dev_reconcile) / 2, dev_reconcile)\n",
    "abhi_key = toeplitz(len(dev_reconcile), len(dev_reconcile) / 2, abhi_reconcile)"
   ]
  },
  {
   "cell_type": "markdown",
   "metadata": {},
   "source": [
    "|Information|Dev|Kaal|Abhi|\n",
    "|:-:|:-:|:-:|:-:|\n",
    "|Pseudo key|Y|Partial|Noisy|"
   ]
  },
  {
   "cell_type": "code",
   "execution_count": null,
   "metadata": {},
   "outputs": [],
   "source": []
  }
 ],
 "metadata": {
  "kernelspec": {
   "display_name": "Python 3",
   "language": "python",
   "name": "python3"
  },
  "language_info": {
   "codemirror_mode": {
    "name": "ipython",
    "version": 3
   },
   "file_extension": ".py",
   "mimetype": "text/x-python",
   "name": "python",
   "nbconvert_exporter": "python",
   "pygments_lexer": "ipython3",
   "version": "3.7.3"
  }
 },
 "nbformat": 4,
 "nbformat_minor": 4
}
