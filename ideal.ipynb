{
 "cells": [
  {
   "cell_type": "code",
   "execution_count": 15,
   "metadata": {},
   "outputs": [],
   "source": [
    "from qiskit import *\n",
    "from numpy.random import randint, shuffle\n",
    "from qiskit.visualization import plot_histogram, plot_bloch_multivector\n",
    "import numpy as np\n",
    "%run BB84_functions.ipynb"
   ]
  },
  {
   "cell_type": "code",
   "execution_count": 16,
   "metadata": {},
   "outputs": [],
   "source": [
    "n = 8\n",
    "N = 32"
   ]
  },
  {
   "cell_type": "code",
   "execution_count": 17,
   "metadata": {},
   "outputs": [],
   "source": [
    "#Step 1 - Ram generates bits\n",
    "ram_bits = bit_string(N)\n",
    "\n",
    "#Step 2 - Ram generates the bases string\n",
    "ram_bases = bit_string(N)\n",
    "\n",
    "#Step 3 - Sita generates the bases string\n",
    "sita_bases = bit_string(N)"
   ]
  },
  {
   "cell_type": "markdown",
   "metadata": {},
   "source": [
    "|Information|Dev|Kaal|Abhi|\n",
    "|:-:|:-:|:-:|:-:|\n",
    "|Dev's bits|Y|N|N|\n",
    "|Dev's bases|Y|N|N|\n",
    "|Abhi's bases|N|Y|N|"
   ]
  },
  {
   "cell_type": "code",
   "execution_count": 18,
   "metadata": {},
   "outputs": [],
   "source": [
    "#Step 4 - Ram encodes his bits in the chosen bases \n",
    "ram_encode = encode_bits(ram_bits, ram_bases)\n",
    "\n",
    "#Step 5 - Ram sends his encoded bits to Sita and Ravan tries to intercept over the Quantum channel\n",
    "received_encode = QCC(ram_encode)\n",
    "\n",
    "#Step 6 - Sita measures Ram's bits in the chosen bases\n",
    "sita_circuit, sita_bits = measure_bits(received_encode, sita_bases)\n",
    "\n",
    "#Step 7 - Sita announces that she has received the encoding and measured it over CAC\n",
    "\n",
    "\n",
    "#Step 8 - Ram and Sita exchange their bases over CAC\n",
    "r2s = CAC(ram_bases)\n",
    "s2r = CAC(sita_bases)\n",
    "\n",
    "#Step 9 - Ram and Sita discard all the bits that correspond to disagreed bases\n",
    "agreed_base_indices = agreed_bases(ram_bases, sita_bases)\n",
    "#sita_circuit.draw(output = 'mpl')"
   ]
  },
  {
   "cell_type": "markdown",
   "metadata": {},
   "source": [
    "|Information|Dev|Kaal|Abhi|\n",
    "|:-:|:-:|:-:|:-:|\n",
    "|Dev's Encoding|Y|Partial|Noisy|\n",
    "|Abhi's bits|N|N|Y|\n",
    "|Dev's and Abhi's bases|Y|Y|Y|"
   ]
  },
  {
   "cell_type": "code",
   "execution_count": 19,
   "metadata": {},
   "outputs": [
    {
     "name": "stdout",
     "output_type": "stream",
     "text": [
      "0.0\n"
     ]
    }
   ],
   "source": [
    "#Step 10 - Error rate checking \n",
    "S2T = bit_string(len(agreed_base_indices))\n",
    "T = select_bits(agreed_base_indices, S2T, 0)\n",
    "\n",
    "#Step 11 - Ram tells T to Sita over CAC\n",
    "sita_T = CAC(T)\n",
    "\n",
    "#Step 12 - Ram and Sita generate their test bits \n",
    "ram_test_bits, sita_test_bits = [], []\n",
    "for i in T :\n",
    "    ram_test_bits.append(ram_bits[i])\n",
    "    sita_test_bits.append(sita_bits[i])\n",
    "\n",
    "#Step 12 - Ram and Sita announce their test bits to each other over the CAC\n",
    "\n",
    "#Step 13 - Ram and Sita compute the error rate\n",
    "error = error_rate(ram_test_bits, sita_test_bits)\n",
    "print(error)"
   ]
  },
  {
   "cell_type": "markdown",
   "metadata": {},
   "source": [
    "|Information|Dev|Kaal|Abhi|\n",
    "|:-:|:-:|:-:|:-:|\n",
    "|T|Y|Y|Y|\n",
    "|Dev's test bits|Y|Y|Y|\n",
    "|Abhi's test bits|Y|Y|Y|"
   ]
  },
  {
   "cell_type": "code",
   "execution_count": 21,
   "metadata": {},
   "outputs": [
    {
     "name": "stdout",
     "output_type": "stream",
     "text": [
      "[0, 1, 1, 0] [0, 1, 1, 0] 0.0\n"
     ]
    }
   ],
   "source": [
    "#Step 14 - Ram and Sita check over a threshold for error before proceeding ahead\n",
    "if error > 0.11 :\n",
    "    print (\"Abort\")\n",
    "else :\n",
    "    #Step 15 - Ram and Sita generate their pseudo keys\n",
    "    SminusT = select_bits(agreed_base_indices, S2T, 1)\n",
    "    ram_pseudokey, sita_pseudokey = [], []\n",
    "    for i in SminusT :\n",
    "        ram_pseudokey.append(ram_bits[i])\n",
    "        sita_pseudokey.append(sita_bits[i])\n",
    "\n",
    "    #reconciliation not required\n",
    "\n",
    "    #Step 17 - Ram and Sita perform privacy amplification\n",
    "    n, k = len(ram_pseudokey), len(ram_pseudokey) // 2\n",
    "    seed = bit_string(n + k - 1)\n",
    "    ram_key = toeplitz(n, k, ram_pseudokey, seed)\n",
    "    sita_key = toeplitz(n, k, sita_pseudokey, seed)\n",
    "    print(ram_key, sita_key, error_rate(ram_test_bits, sita_test_bits))"
   ]
  },
  {
   "cell_type": "markdown",
   "metadata": {},
   "source": [
    "|Information|Dev|Kaal|Abhi|\n",
    "|:-:|:-:|:-:|:-:|\n",
    "|Pseudo key|Y|Partial|Noisy|"
   ]
  }
 ],
 "metadata": {
  "kernelspec": {
   "display_name": "Python 3",
   "language": "python",
   "name": "python3"
  },
  "language_info": {
   "codemirror_mode": {
    "name": "ipython",
    "version": 3
   },
   "file_extension": ".py",
   "mimetype": "text/x-python",
   "name": "python",
   "nbconvert_exporter": "python",
   "pygments_lexer": "ipython3",
   "version": "3.8.3"
  }
 },
 "nbformat": 4,
 "nbformat_minor": 4
}
