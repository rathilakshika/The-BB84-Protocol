{
 "cells": [
  {
   "cell_type": "code",
   "execution_count": 33,
   "metadata": {},
   "outputs": [],
   "source": [
    "from qiskit import *\n",
    "from numpy.random import randint, shuffle\n",
    "from qiskit.visualization import plot_histogram, plot_bloch_multivector\n",
    "import numpy as np\n",
    "%run BB84_functions.ipynb\n",
    "%run LDPC_functionsMD.ipynb"
   ]
  },
  {
   "cell_type": "code",
   "execution_count": 34,
   "metadata": {},
   "outputs": [],
   "source": [
    "n = 25\n",
    "N = 100\n",
    "EMPTY = QuantumCircuit(N, N)\n",
    "noise = 2\n",
    "MAX_ITERS = 30"
   ]
  },
  {
   "cell_type": "code",
   "execution_count": 35,
   "metadata": {},
   "outputs": [],
   "source": [
    "def QCC(qubits, x) :\n",
    "    random_errors = randint(0, N, x)\n",
    "    #print(random_errors)\n",
    "    for i in range(x) :\n",
    "        random_gate = randint(2)\n",
    "        #print(random_gate)\n",
    "        if random_gate == 0:\n",
    "            qubits.x([random_errors[i]])\n",
    "        else :\n",
    "            qubits.h([random_errors[i]])\n",
    "    return qubits"
   ]
  },
  {
   "cell_type": "code",
   "execution_count": 36,
   "metadata": {},
   "outputs": [],
   "source": [
    "def CAC(bits) :\n",
    "    return bits"
   ]
  },
  {
   "cell_type": "code",
   "execution_count": 37,
   "metadata": {},
   "outputs": [],
   "source": [
    "def generate_and_send(N) :\n",
    "    #Step 1 - Ram generates bits\n",
    "    ram_bits = bit_string(N)\n",
    "\n",
    "    #Step 2 - Ram generates the bases string\n",
    "    ram_bases = bit_string(N)\n",
    "\n",
    "    #Step 3 - Sita generates the bases string\n",
    "    sita_bases = bit_string(N)\n",
    "    \n",
    "    #Step 4 - Ram encodes his bits in the chosen bases \n",
    "    ram_encode = encode_bits(ram_bits, ram_bases)\n",
    "\n",
    "    #Step 5 - Ram sends his encoded bits to Sita and Ravan tries to intercept over the Quantum channel\n",
    "    received_encode = QCC(ram_encode, noise)\n",
    "    \n",
    "    #Step 6 - Sita announces that she has received the encoding and measured it over CAC\n",
    "    if received_encode == EMPTY :\n",
    "        received = False\n",
    "    else :\n",
    "        received = True\n",
    "    print(received)\n",
    "    \n",
    "    return ram_bits, ram_bases, sita_bases, received_encode, received"
   ]
  },
  {
   "cell_type": "markdown",
   "metadata": {},
   "source": [
    "|Information|Dev|Kaal|Abhi|\n",
    "|:-:|:-:|:-:|:-:|\n",
    "|Dev's bits|Y|N|N|\n",
    "|Dev's bases|Y|N|N|\n",
    "|Abhi's bases|N|Y|N|\n",
    "|Dev's Encoding|Y|Partial|Noisy|"
   ]
  },
  {
   "cell_type": "code",
   "execution_count": 38,
   "metadata": {},
   "outputs": [],
   "source": [
    "def sifting(ram_bases, sita_bases, received_encode) :\n",
    "    #Step 7 - Sita measures Ram's bits in the chosen bases\n",
    "    sita_circuit, sita_bits = measure_bits(received_encode, sita_bases)\n",
    "\n",
    "    #Step 8 - Ram and Sita exchange their bases over CAC\n",
    "    r2s = CAC(ram_bases)\n",
    "    s2r = CAC(sita_bases)\n",
    "\n",
    "    #Step 9 - Ram and Sita discard all the bits that correspond to disagreed bases\n",
    "    agreed_base_indices = agreed_bases(ram_bases, sita_bases)\n",
    "    #sita_circuit.draw(output = 'mpl')\n",
    "    \n",
    "    return sita_bits, agreed_base_indices"
   ]
  },
  {
   "cell_type": "markdown",
   "metadata": {},
   "source": [
    "|Information|Dev|Kaal|Abhi|\n",
    "|:-:|:-:|:-:|:-:|\n",
    "|Abhi's bits|N|N|Y|\n",
    "|Dev's and Abhi's bases|Y|Y|Y|"
   ]
  },
  {
   "cell_type": "code",
   "execution_count": 39,
   "metadata": {},
   "outputs": [],
   "source": [
    "def qber(ram_bits, sita_bits, agreed_base_indices) :\n",
    "    #Step 10 - Error rate checking \n",
    "    S2T = bit_string(len(agreed_base_indices))\n",
    "    T = select_bits(agreed_base_indices, S2T, 0)\n",
    "\n",
    "    #Step 11 - Ram tells T to Sita over CAC\n",
    "    sita_T = CAC(T)\n",
    "\n",
    "    #Step 12 - Ram and Sita generate their test bits \n",
    "    ram_test_bits, sita_test_bits = [], []\n",
    "    for i in T :\n",
    "        ram_test_bits.append(ram_bits[i])\n",
    "        sita_test_bits.append(sita_bits[i])\n",
    "\n",
    "    #Step 12 - Ram and Sita announce their test bits to each other over the CAC\n",
    "    rec_sita_test_bits = CAC(sita_test_bits)\n",
    "    rec_ram_test_bits = CAC(ram_test_bits)\n",
    "\n",
    "    #Step 13 - Ram and Sita compute the error rate\n",
    "    error = error_rate(rec_ram_test_bits, rec_sita_test_bits)\n",
    "    return error, S2T"
   ]
  },
  {
   "cell_type": "markdown",
   "metadata": {},
   "source": [
    "|Information|Dev|Kaal|Abhi|\n",
    "|:-:|:-:|:-:|:-:|\n",
    "|T|Y|Y|Y|\n",
    "|Dev's test bits|Y|Y|Y|\n",
    "|Abhi's test bits|Y|Y|Y|"
   ]
  },
  {
   "cell_type": "code",
   "execution_count": 40,
   "metadata": {},
   "outputs": [],
   "source": [
    "def reconciliation(ram_bits, sita_bits, qber) :\n",
    "    p = qber\n",
    "    n = len(ram_bits)\n",
    "    #Step1 : Produce parity check matrix(M1) of dimension m*n, n is length of bitstring and m is no. of parity check equations\n",
    "    H, m = parity_matrix(n, p)\n",
    "\n",
    "    #Step2 : Ram produces the syndrome and hash values\n",
    "    C = syndrome(H, ram_bits)\n",
    "\n",
    "    #Step3 : Ram sends syndrome via CAC\n",
    "\n",
    "    #Step4 : Sita produces the syndrome\n",
    "    D = syndrome(H, sita_bits)\n",
    "\n",
    "    #Step5 : Ram performs belief propagation algorithm\n",
    "    y, success, i = belief_prop(C, D, sita_bits, MAX_ITERS, p, H)\n",
    "    \n",
    "    #Step6 : Sita sends success of reconciliation\n",
    "    \n",
    "    return y, success"
   ]
  },
  {
   "cell_type": "code",
   "execution_count": 41,
   "metadata": {},
   "outputs": [],
   "source": [
    "def privacy_amplification(ram_pseudokey, sita_pseudokey) :\n",
    "    n, k = len(ram_pseudokey), len(ram_pseudokey) // 2\n",
    "    seed = bit_string(n + k - 1)\n",
    "    ram_key = toeplitz(n, k, ram_pseudokey, seed)\n",
    "    sita_key = toeplitz(n, k, sita_pseudokey, seed)\n",
    "    return ram_key, sita_key, error_rate(ram_key, sita_key)"
   ]
  },
  {
   "cell_type": "code",
   "execution_count": 42,
   "metadata": {},
   "outputs": [
    {
     "name": "stdout",
     "output_type": "stream",
     "text": [
      "True\n",
      "[1, 1, 1, 1, 1, 0, 1, 1, 1, 1, 1, 0, 0] [1, 1, 1, 1, 1, 0, 1, 1, 1, 1, 1, 0, 0] 0.0\n"
     ]
    }
   ],
   "source": [
    "#Step 1 to Step 6\n",
    "ram_bits, ram_bases, sita_bases, received_encode, received = generate_and_send(N)\n",
    "\n",
    "if not received :\n",
    "    print('Abort')\n",
    "\n",
    "else :\n",
    "    #Step 7 to Step 9\n",
    "    sita_bits, agreed_base_indices = sifting(ram_bases, sita_bases, received_encode)\n",
    "    \n",
    "    #Step 10 to Step 13\n",
    "    error, S2T = qber(ram_bits, sita_bits, agreed_base_indices)\n",
    "    \n",
    "    #Step 14 - Ram and Sita check over a threshold for error before proceeding ahead\n",
    "    if error > 0.11 :\n",
    "        print (\"Abort\")\n",
    "    \n",
    "    else :\n",
    "        #Step 15 - Ram and Sita generate their pseudo keys\n",
    "        SminusT = select_bits(agreed_base_indices, S2T, 1)\n",
    "        ram_pseudokey, sita_pseudokey = [], []\n",
    "        for i in SminusT :\n",
    "            ram_pseudokey.append(ram_bits[i])\n",
    "            sita_pseudokey.append(sita_bits[i])\n",
    "        \n",
    "        #Step 16 - Information Reconciliation\n",
    "        sita_corrected_key, success = reconciliation(ram_pseudokey, sita_pseudokey, error) if error != 0 else (sita_pseudokey, 1)\n",
    "        \n",
    "        if not success :\n",
    "            print(\"Abort\")\n",
    "        \n",
    "        else :\n",
    "            #Step 17 - Ram and Sita perform privacy amplification\n",
    "            ram_key, sita_key, error = privacy_amplification(ram_pseudokey, sita_corrected_key)\n",
    "        \n",
    "            print(ram_key, sita_key, error)"
   ]
  },
  {
   "cell_type": "markdown",
   "metadata": {},
   "source": [
    "|Information|Dev|Kaal|Abhi|\n",
    "|:-:|:-:|:-:|:-:|\n",
    "|Pseudo key|Y|Partial|Noisy|"
   ]
  }
 ],
 "metadata": {
  "kernelspec": {
   "display_name": "Python 3",
   "language": "python",
   "name": "python3"
  },
  "language_info": {
   "codemirror_mode": {
    "name": "ipython",
    "version": 3
   },
   "file_extension": ".py",
   "mimetype": "text/x-python",
   "name": "python",
   "nbconvert_exporter": "python",
   "pygments_lexer": "ipython3",
   "version": "3.8.3"
  }
 },
 "nbformat": 4,
 "nbformat_minor": 4
}
